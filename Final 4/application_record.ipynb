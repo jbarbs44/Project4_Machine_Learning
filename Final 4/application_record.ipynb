{
 "cells": [
  {
   "cell_type": "code",
   "execution_count": 27,
   "metadata": {},
   "outputs": [],
   "source": [
    "import pandas as pd\n",
    "import sklearn as skl\n",
    "from sklearn.model_selection import train_test_split, GridSearchCV\n",
    "from sklearn.preprocessing import StandardScaler,OneHotEncoder\n",
    "from sklearn.metrics import mean_squared_error, mean_absolute_error, r2_score\n",
    "from sklearn.linear_model import Ridge, Lasso\n",
    "from sklearn.tree import DecisionTreeRegressor\n",
    "import numpy as np\n",
    "import pickle"
   ]
  },
  {
   "cell_type": "code",
   "execution_count": 28,
   "metadata": {},
   "outputs": [
    {
     "data": {
      "text/html": [
       "<div>\n",
       "<style scoped>\n",
       "    .dataframe tbody tr th:only-of-type {\n",
       "        vertical-align: middle;\n",
       "    }\n",
       "\n",
       "    .dataframe tbody tr th {\n",
       "        vertical-align: top;\n",
       "    }\n",
       "\n",
       "    .dataframe thead th {\n",
       "        text-align: right;\n",
       "    }\n",
       "</style>\n",
       "<table border=\"1\" class=\"dataframe\">\n",
       "  <thead>\n",
       "    <tr style=\"text-align: right;\">\n",
       "      <th></th>\n",
       "      <th>Unnamed: 0</th>\n",
       "      <th>Age</th>\n",
       "      <th>Gender</th>\n",
       "      <th>Education Level</th>\n",
       "      <th>Job Title</th>\n",
       "      <th>Years of Experience</th>\n",
       "      <th>Salary</th>\n",
       "      <th>Country</th>\n",
       "      <th>Race</th>\n",
       "    </tr>\n",
       "  </thead>\n",
       "  <tbody>\n",
       "    <tr>\n",
       "      <th>0</th>\n",
       "      <td>0</td>\n",
       "      <td>32.0</td>\n",
       "      <td>Male</td>\n",
       "      <td>Bachelor's</td>\n",
       "      <td>Software Engineer</td>\n",
       "      <td>5.0</td>\n",
       "      <td>90000.0</td>\n",
       "      <td>UK</td>\n",
       "      <td>White</td>\n",
       "    </tr>\n",
       "    <tr>\n",
       "      <th>1</th>\n",
       "      <td>1</td>\n",
       "      <td>28.0</td>\n",
       "      <td>Female</td>\n",
       "      <td>Master's</td>\n",
       "      <td>Data Analyst</td>\n",
       "      <td>3.0</td>\n",
       "      <td>65000.0</td>\n",
       "      <td>USA</td>\n",
       "      <td>Hispanic</td>\n",
       "    </tr>\n",
       "    <tr>\n",
       "      <th>2</th>\n",
       "      <td>2</td>\n",
       "      <td>45.0</td>\n",
       "      <td>Male</td>\n",
       "      <td>PhD</td>\n",
       "      <td>Senior Manager</td>\n",
       "      <td>15.0</td>\n",
       "      <td>150000.0</td>\n",
       "      <td>Canada</td>\n",
       "      <td>White</td>\n",
       "    </tr>\n",
       "    <tr>\n",
       "      <th>3</th>\n",
       "      <td>3</td>\n",
       "      <td>36.0</td>\n",
       "      <td>Female</td>\n",
       "      <td>Bachelor's</td>\n",
       "      <td>Sales Associate</td>\n",
       "      <td>7.0</td>\n",
       "      <td>60000.0</td>\n",
       "      <td>USA</td>\n",
       "      <td>Hispanic</td>\n",
       "    </tr>\n",
       "    <tr>\n",
       "      <th>4</th>\n",
       "      <td>4</td>\n",
       "      <td>52.0</td>\n",
       "      <td>Male</td>\n",
       "      <td>Master's</td>\n",
       "      <td>Director</td>\n",
       "      <td>20.0</td>\n",
       "      <td>200000.0</td>\n",
       "      <td>USA</td>\n",
       "      <td>Asian</td>\n",
       "    </tr>\n",
       "  </tbody>\n",
       "</table>\n",
       "</div>"
      ],
      "text/plain": [
       "   Unnamed: 0   Age  Gender Education Level          Job Title   \n",
       "0           0  32.0    Male      Bachelor's  Software Engineer  \\\n",
       "1           1  28.0  Female        Master's       Data Analyst   \n",
       "2           2  45.0    Male             PhD     Senior Manager   \n",
       "3           3  36.0  Female      Bachelor's    Sales Associate   \n",
       "4           4  52.0    Male        Master's           Director   \n",
       "\n",
       "   Years of Experience    Salary Country      Race  \n",
       "0                  5.0   90000.0      UK     White  \n",
       "1                  3.0   65000.0     USA  Hispanic  \n",
       "2                 15.0  150000.0  Canada     White  \n",
       "3                  7.0   60000.0     USA  Hispanic  \n",
       "4                 20.0  200000.0     USA     Asian  "
      ]
     },
     "execution_count": 28,
     "metadata": {},
     "output_type": "execute_result"
    }
   ],
   "source": [
    "df = pd.read_csv(\"Resources/Salary_Data_Based_country_and_race.csv\")\n",
    "df.head()"
   ]
  },
  {
   "cell_type": "code",
   "execution_count": 29,
   "metadata": {},
   "outputs": [
    {
     "data": {
      "text/html": [
       "<div>\n",
       "<style scoped>\n",
       "    .dataframe tbody tr th:only-of-type {\n",
       "        vertical-align: middle;\n",
       "    }\n",
       "\n",
       "    .dataframe tbody tr th {\n",
       "        vertical-align: top;\n",
       "    }\n",
       "\n",
       "    .dataframe thead th {\n",
       "        text-align: right;\n",
       "    }\n",
       "</style>\n",
       "<table border=\"1\" class=\"dataframe\">\n",
       "  <thead>\n",
       "    <tr style=\"text-align: right;\">\n",
       "      <th></th>\n",
       "      <th>Age</th>\n",
       "      <th>Gender</th>\n",
       "      <th>Education</th>\n",
       "      <th>Job</th>\n",
       "      <th>Years of Experience</th>\n",
       "      <th>Salary</th>\n",
       "      <th>Country</th>\n",
       "      <th>Race</th>\n",
       "    </tr>\n",
       "  </thead>\n",
       "  <tbody>\n",
       "    <tr>\n",
       "      <th>0</th>\n",
       "      <td>32.0</td>\n",
       "      <td>Male</td>\n",
       "      <td>Bachelor's</td>\n",
       "      <td>Software Engineer</td>\n",
       "      <td>5.0</td>\n",
       "      <td>90000.0</td>\n",
       "      <td>UK</td>\n",
       "      <td>White</td>\n",
       "    </tr>\n",
       "    <tr>\n",
       "      <th>1</th>\n",
       "      <td>28.0</td>\n",
       "      <td>Female</td>\n",
       "      <td>Master's</td>\n",
       "      <td>Data Analyst</td>\n",
       "      <td>3.0</td>\n",
       "      <td>65000.0</td>\n",
       "      <td>USA</td>\n",
       "      <td>Hispanic</td>\n",
       "    </tr>\n",
       "    <tr>\n",
       "      <th>2</th>\n",
       "      <td>45.0</td>\n",
       "      <td>Male</td>\n",
       "      <td>PhD</td>\n",
       "      <td>Senior Manager</td>\n",
       "      <td>15.0</td>\n",
       "      <td>150000.0</td>\n",
       "      <td>Canada</td>\n",
       "      <td>White</td>\n",
       "    </tr>\n",
       "    <tr>\n",
       "      <th>3</th>\n",
       "      <td>36.0</td>\n",
       "      <td>Female</td>\n",
       "      <td>Bachelor's</td>\n",
       "      <td>Sales Associate</td>\n",
       "      <td>7.0</td>\n",
       "      <td>60000.0</td>\n",
       "      <td>USA</td>\n",
       "      <td>Hispanic</td>\n",
       "    </tr>\n",
       "    <tr>\n",
       "      <th>4</th>\n",
       "      <td>52.0</td>\n",
       "      <td>Male</td>\n",
       "      <td>Master's</td>\n",
       "      <td>Director</td>\n",
       "      <td>20.0</td>\n",
       "      <td>200000.0</td>\n",
       "      <td>USA</td>\n",
       "      <td>Asian</td>\n",
       "    </tr>\n",
       "    <tr>\n",
       "      <th>...</th>\n",
       "      <td>...</td>\n",
       "      <td>...</td>\n",
       "      <td>...</td>\n",
       "      <td>...</td>\n",
       "      <td>...</td>\n",
       "      <td>...</td>\n",
       "      <td>...</td>\n",
       "      <td>...</td>\n",
       "    </tr>\n",
       "    <tr>\n",
       "      <th>6699</th>\n",
       "      <td>49.0</td>\n",
       "      <td>Female</td>\n",
       "      <td>PhD</td>\n",
       "      <td>Director of Marketing</td>\n",
       "      <td>20.0</td>\n",
       "      <td>200000.0</td>\n",
       "      <td>UK</td>\n",
       "      <td>Mixed</td>\n",
       "    </tr>\n",
       "    <tr>\n",
       "      <th>6700</th>\n",
       "      <td>32.0</td>\n",
       "      <td>Male</td>\n",
       "      <td>High School</td>\n",
       "      <td>Sales Associate</td>\n",
       "      <td>3.0</td>\n",
       "      <td>50000.0</td>\n",
       "      <td>Australia</td>\n",
       "      <td>Australian</td>\n",
       "    </tr>\n",
       "    <tr>\n",
       "      <th>6701</th>\n",
       "      <td>30.0</td>\n",
       "      <td>Female</td>\n",
       "      <td>Bachelor's Degree</td>\n",
       "      <td>Financial Manager</td>\n",
       "      <td>4.0</td>\n",
       "      <td>55000.0</td>\n",
       "      <td>China</td>\n",
       "      <td>Chinese</td>\n",
       "    </tr>\n",
       "    <tr>\n",
       "      <th>6702</th>\n",
       "      <td>46.0</td>\n",
       "      <td>Male</td>\n",
       "      <td>Master's Degree</td>\n",
       "      <td>Marketing Manager</td>\n",
       "      <td>14.0</td>\n",
       "      <td>140000.0</td>\n",
       "      <td>China</td>\n",
       "      <td>Korean</td>\n",
       "    </tr>\n",
       "    <tr>\n",
       "      <th>6703</th>\n",
       "      <td>26.0</td>\n",
       "      <td>Female</td>\n",
       "      <td>High School</td>\n",
       "      <td>Sales Executive</td>\n",
       "      <td>1.0</td>\n",
       "      <td>35000.0</td>\n",
       "      <td>Canada</td>\n",
       "      <td>Black</td>\n",
       "    </tr>\n",
       "  </tbody>\n",
       "</table>\n",
       "<p>6698 rows × 8 columns</p>\n",
       "</div>"
      ],
      "text/plain": [
       "       Age  Gender          Education                    Job   \n",
       "0     32.0    Male         Bachelor's      Software Engineer  \\\n",
       "1     28.0  Female           Master's           Data Analyst   \n",
       "2     45.0    Male                PhD         Senior Manager   \n",
       "3     36.0  Female         Bachelor's        Sales Associate   \n",
       "4     52.0    Male           Master's               Director   \n",
       "...    ...     ...                ...                    ...   \n",
       "6699  49.0  Female                PhD  Director of Marketing   \n",
       "6700  32.0    Male        High School        Sales Associate   \n",
       "6701  30.0  Female  Bachelor's Degree      Financial Manager   \n",
       "6702  46.0    Male    Master's Degree      Marketing Manager   \n",
       "6703  26.0  Female        High School        Sales Executive   \n",
       "\n",
       "      Years of Experience    Salary    Country        Race  \n",
       "0                     5.0   90000.0         UK       White  \n",
       "1                     3.0   65000.0        USA    Hispanic  \n",
       "2                    15.0  150000.0     Canada       White  \n",
       "3                     7.0   60000.0        USA    Hispanic  \n",
       "4                    20.0  200000.0        USA       Asian  \n",
       "...                   ...       ...        ...         ...  \n",
       "6699                 20.0  200000.0         UK       Mixed  \n",
       "6700                  3.0   50000.0  Australia  Australian  \n",
       "6701                  4.0   55000.0      China     Chinese  \n",
       "6702                 14.0  140000.0      China      Korean  \n",
       "6703                  1.0   35000.0     Canada       Black  \n",
       "\n",
       "[6698 rows x 8 columns]"
      ]
     },
     "execution_count": 29,
     "metadata": {},
     "output_type": "execute_result"
    }
   ],
   "source": [
    "# Drop Unnamed: 0 column\n",
    "df2 = df.drop(columns=['Unnamed: 0'])\n",
    "\n",
    "# Rename columns\n",
    "df2 = df2.rename(columns={'Education Level': 'Education', \n",
    "                   'Job Title': 'Job',})\n",
    "\n",
    "df2.dropna(inplace=True)\n",
    "\n",
    "# Rename phD to PhD\n",
    "df2['Education'] = df2['Education'].replace('phD', 'PhD')                   \n",
    "df2['Education'].unique()\n",
    "\n",
    "df2"
   ]
  },
  {
   "cell_type": "code",
   "execution_count": 30,
   "metadata": {},
   "outputs": [
    {
     "name": "stdout",
     "output_type": "stream",
     "text": [
      "[{'label': 'Software Engineer', 'value': 1}, {'label': 'Data Analyst', 'value': 2}, {'label': ' Manager', 'value': 3}, {'label': 'Sales Associate', 'value': 4}, {'label': 'Director', 'value': 5}, {'label': 'Marketing Analyst', 'value': 6}, {'label': 'Product Manager', 'value': 7}, {'label': 'Sales Manager', 'value': 8}, {'label': 'Marketing Coordinator', 'value': 9}, {'label': ' Scientist', 'value': 10}, {'label': 'Software Developer', 'value': 11}, {'label': 'HR Manager', 'value': 12}, {'label': 'Financial Analyst', 'value': 13}, {'label': 'Project Manager', 'value': 14}, {'label': 'Customer Service Rep', 'value': 15}, {'label': 'Operations Manager', 'value': 16}, {'label': 'Marketing Manager', 'value': 17}, {'label': ' Engineer', 'value': 18}, {'label': 'Data Entry Clerk', 'value': 19}, {'label': 'Sales Director', 'value': 20}, {'label': 'Business Analyst', 'value': 21}, {'label': 'VP of Operations', 'value': 22}, {'label': 'IT Support', 'value': 23}, {'label': 'Recruiter', 'value': 24}, {'label': 'Financial Manager', 'value': 25}, {'label': 'Social Media Specialist', 'value': 26}, {'label': 'Software Manager', 'value': 27}, {'label': ' Developer', 'value': 28}, {'label': ' Consultant', 'value': 29}, {'label': 'Product Designer', 'value': 30}, {'label': 'CEO', 'value': 31}, {'label': 'Accountant', 'value': 32}, {'label': 'Data Scientist', 'value': 33}, {'label': 'Marketing Specialist', 'value': 34}, {'label': 'Technical Writer', 'value': 35}, {'label': 'HR Generalist', 'value': 36}, {'label': 'Project Engineer', 'value': 37}, {'label': 'Customer Success Rep', 'value': 38}, {'label': 'Sales Executive', 'value': 39}, {'label': 'UX Designer', 'value': 40}, {'label': 'Operations Director', 'value': 41}, {'label': 'Network Engineer', 'value': 42}, {'label': 'Administrative Assistant', 'value': 43}, {'label': 'Strategy Consultant', 'value': 44}, {'label': 'Copywriter', 'value': 45}, {'label': 'Account Manager', 'value': 46}, {'label': 'Director of Marketing', 'value': 47}, {'label': 'Help Desk Analyst', 'value': 48}, {'label': 'Customer Service Manager', 'value': 49}, {'label': 'Business Intelligence Analyst', 'value': 50}, {'label': 'Event Coordinator', 'value': 51}, {'label': 'VP of Finance', 'value': 52}, {'label': 'Graphic Designer', 'value': 53}, {'label': 'UX Researcher', 'value': 54}, {'label': 'Social Media Manager', 'value': 55}, {'label': 'Director of Operations', 'value': 56}, {'label': ' Data Scientist', 'value': 57}, {'label': ' Accountant', 'value': 58}, {'label': 'Digital Marketing Manager', 'value': 59}, {'label': 'IT Manager', 'value': 60}, {'label': 'Customer Service Representative', 'value': 61}, {'label': 'Business Development Manager', 'value': 62}, {'label': ' Financial Analyst', 'value': 63}, {'label': 'Web Developer', 'value': 64}, {'label': 'Research Director', 'value': 65}, {'label': 'Technical Support Specialist', 'value': 66}, {'label': 'Creative Director', 'value': 67}, {'label': ' Software Engineer', 'value': 68}, {'label': 'Human Resources Director', 'value': 69}, {'label': 'Content Marketing Manager', 'value': 70}, {'label': 'Technical Recruiter', 'value': 71}, {'label': 'Sales Representative', 'value': 72}, {'label': 'Chief Technology Officer', 'value': 73}, {'label': ' Designer', 'value': 74}, {'label': 'Financial Advisor', 'value': 75}, {'label': ' Account Manager', 'value': 76}, {'label': ' Project Manager', 'value': 77}, {'label': 'Principal Scientist', 'value': 78}, {'label': 'Supply Chain Manager', 'value': 79}, {'label': ' Marketing Manager', 'value': 80}, {'label': 'Training Specialist', 'value': 81}, {'label': 'Research Scientist', 'value': 82}, {'label': ' Software Developer', 'value': 83}, {'label': 'Public Relations Manager', 'value': 84}, {'label': 'Operations Analyst', 'value': 85}, {'label': 'Product Marketing Manager', 'value': 86}, {'label': ' HR Manager', 'value': 87}, {'label': ' Web Developer', 'value': 88}, {'label': ' Project Coordinator', 'value': 89}, {'label': 'Chief Data Officer', 'value': 90}, {'label': 'Digital Content Producer', 'value': 91}, {'label': 'IT Support Specialist', 'value': 92}, {'label': ' Marketing Analyst', 'value': 93}, {'label': 'Customer Success Manager', 'value': 94}, {'label': ' Graphic Designer', 'value': 95}, {'label': 'Software Project Manager', 'value': 96}, {'label': 'Supply Chain Analyst', 'value': 97}, {'label': ' Business Analyst', 'value': 98}, {'label': 'Office Manager', 'value': 99}, {'label': 'Principal Engineer', 'value': 100}, {'label': ' HR Generalist', 'value': 101}, {'label': ' Product Manager', 'value': 102}, {'label': ' Operations Analyst', 'value': 103}, {'label': 'Sales Operations Manager', 'value': 104}, {'label': ' Web Designer', 'value': 105}, {'label': ' Training Specialist', 'value': 106}, {'label': ' Research Scientist', 'value': 107}, {'label': ' Sales Representative', 'value': 108}, {'label': ' Data Analyst', 'value': 109}, {'label': ' Product Marketing Manager', 'value': 110}, {'label': ' Sales Manager', 'value': 111}, {'label': ' Marketing Specialist', 'value': 112}, {'label': 'Director of Sales', 'value': 113}, {'label': ' Recruiter', 'value': 114}, {'label': ' Business Development Manager', 'value': 115}, {'label': ' Product Designer', 'value': 116}, {'label': ' Customer Support Specialist', 'value': 117}, {'label': ' IT Support Specialist', 'value': 118}, {'label': ' Operations Manager', 'value': 119}, {'label': 'Director of Human Resources', 'value': 120}, {'label': 'Director of Product Management', 'value': 121}, {'label': ' Copywriter', 'value': 122}, {'label': ' Marketing Coordinator', 'value': 123}, {'label': ' Human Resources Manager', 'value': 124}, {'label': ' Business Development Associate', 'value': 125}, {'label': ' Researcher', 'value': 126}, {'label': ' HR Coordinator', 'value': 127}, {'label': 'Director of Finance', 'value': 128}, {'label': ' Human Resources Coordinator', 'value': 129}, {'label': ' UX Designer', 'value': 130}, {'label': ' IT Project Manager', 'value': 131}, {'label': ' Quality Assurance Analyst', 'value': 132}, {'label': 'Director of Sales and Marketing', 'value': 133}, {'label': ' Account Executive', 'value': 134}, {'label': 'Director of Business Development', 'value': 135}, {'label': ' Social Media Manager', 'value': 136}, {'label': ' Human Resources Specialist', 'value': 137}, {'label': 'Director of Human Capital', 'value': 138}, {'label': ' Advertising Coordinator', 'value': 139}, {'label': ' Marketing Director', 'value': 140}, {'label': ' IT Consultant', 'value': 141}, {'label': ' Financial Advisor', 'value': 142}, {'label': ' Business Operations Analyst', 'value': 143}, {'label': ' Social Media Specialist', 'value': 144}, {'label': ' Product Development Manager', 'value': 145}, {'label': ' Software Architect', 'value': 146}, {'label': ' Financial Manager', 'value': 147}, {'label': ' HR Specialist', 'value': 148}, {'label': ' Data Engineer', 'value': 149}, {'label': ' Operations Coordinator', 'value': 150}, {'label': 'Director of HR', 'value': 151}, {'label': 'Director of Engineering', 'value': 152}, {'label': 'Software Engineer Manager', 'value': 153}, {'label': 'Back end Developer', 'value': 154}, {'label': ' Project Engineer', 'value': 155}, {'label': 'Full Stack Engineer', 'value': 156}, {'label': 'Front end Developer', 'value': 157}, {'label': 'Front End Developer', 'value': 158}, {'label': 'Director of Data Science', 'value': 159}, {'label': 'Human Resources Coordinator', 'value': 160}, {'label': ' Sales Associate', 'value': 161}, {'label': 'Human Resources Manager', 'value': 162}, {'label': 'Juniour HR Generalist', 'value': 163}, {'label': 'Juniour HR Coordinator', 'value': 164}, {'label': 'Digital Marketing Specialist', 'value': 165}, {'label': 'Receptionist', 'value': 166}, {'label': 'Marketing Director', 'value': 167}, {'label': 'Social Media Man', 'value': 168}, {'label': 'Delivery Driver', 'value': 169}]\n"
     ]
    }
   ],
   "source": [
    "df2['Job'] = df2['Job'].replace('Senior', '', regex=True)\n",
    "df2['Job'] = df2['Job'].replace('Junior', '', regex=True)\n",
    "# df2['Job'].value_counts()\n",
    "\n",
    "# Use for loop to replace all the values in job column with an integer value and append to a dictionary\n",
    "job_dict = {}\n",
    "value_mapping = []\n",
    "for i, unique_value in enumerate(df2['Job'].unique()):\n",
    "    job_dict[unique_value] = i + 1\n",
    "    mapping = {'label': unique_value, 'value': i + 1}\n",
    "    value_mapping.append(mapping)\n",
    "\n",
    "\n",
    "\n",
    "        \n",
    "print(value_mapping)"
   ]
  },
  {
   "cell_type": "code",
   "execution_count": 31,
   "metadata": {},
   "outputs": [
    {
     "data": {
      "text/plain": [
       "array(['UK', 'USA', 'Canada', 'China', 'Australia'], dtype=object)"
      ]
     },
     "execution_count": 31,
     "metadata": {},
     "output_type": "execute_result"
    }
   ],
   "source": [
    "df2['Country'].unique()"
   ]
  },
  {
   "cell_type": "code",
   "execution_count": 32,
   "metadata": {},
   "outputs": [
    {
     "data": {
      "text/plain": [
       "array(['White', 'Hispanic', 'Asian', 'African American', 'Mixed'],\n",
       "      dtype=object)"
      ]
     },
     "execution_count": 32,
     "metadata": {},
     "output_type": "execute_result"
    }
   ],
   "source": [
    "df2['Race'] = df2['Race'].replace('Black', 'African American')\n",
    "df2['Race'] = df2['Race'].replace('Korean', 'Asian')\n",
    "df2['Race'] = df2['Race'].replace('Chinese', 'Asian')\n",
    "df2['Race'] = df2['Race'].replace('Welsh', 'White')\n",
    "df2['Race'] = df2['Race'].replace('Australian', 'White')\n",
    "df2['Race'].unique()   "
   ]
  },
  {
   "cell_type": "code",
   "execution_count": 33,
   "metadata": {},
   "outputs": [
    {
     "data": {
      "text/html": [
       "<div>\n",
       "<style scoped>\n",
       "    .dataframe tbody tr th:only-of-type {\n",
       "        vertical-align: middle;\n",
       "    }\n",
       "\n",
       "    .dataframe tbody tr th {\n",
       "        vertical-align: top;\n",
       "    }\n",
       "\n",
       "    .dataframe thead th {\n",
       "        text-align: right;\n",
       "    }\n",
       "</style>\n",
       "<table border=\"1\" class=\"dataframe\">\n",
       "  <thead>\n",
       "    <tr style=\"text-align: right;\">\n",
       "      <th></th>\n",
       "      <th>Age</th>\n",
       "      <th>Gender</th>\n",
       "      <th>Education</th>\n",
       "      <th>Job</th>\n",
       "      <th>Years of Experience</th>\n",
       "      <th>Salary</th>\n",
       "      <th>Country</th>\n",
       "      <th>Race</th>\n",
       "    </tr>\n",
       "  </thead>\n",
       "  <tbody>\n",
       "    <tr>\n",
       "      <th>0</th>\n",
       "      <td>32.0</td>\n",
       "      <td>1.0</td>\n",
       "      <td>1</td>\n",
       "      <td>1</td>\n",
       "      <td>5.0</td>\n",
       "      <td>90000.0</td>\n",
       "      <td>1</td>\n",
       "      <td>1</td>\n",
       "    </tr>\n",
       "    <tr>\n",
       "      <th>1</th>\n",
       "      <td>28.0</td>\n",
       "      <td>0.0</td>\n",
       "      <td>2</td>\n",
       "      <td>2</td>\n",
       "      <td>3.0</td>\n",
       "      <td>65000.0</td>\n",
       "      <td>2</td>\n",
       "      <td>2</td>\n",
       "    </tr>\n",
       "    <tr>\n",
       "      <th>2</th>\n",
       "      <td>45.0</td>\n",
       "      <td>1.0</td>\n",
       "      <td>3</td>\n",
       "      <td>3</td>\n",
       "      <td>15.0</td>\n",
       "      <td>150000.0</td>\n",
       "      <td>3</td>\n",
       "      <td>1</td>\n",
       "    </tr>\n",
       "    <tr>\n",
       "      <th>3</th>\n",
       "      <td>36.0</td>\n",
       "      <td>0.0</td>\n",
       "      <td>1</td>\n",
       "      <td>4</td>\n",
       "      <td>7.0</td>\n",
       "      <td>60000.0</td>\n",
       "      <td>2</td>\n",
       "      <td>2</td>\n",
       "    </tr>\n",
       "    <tr>\n",
       "      <th>4</th>\n",
       "      <td>52.0</td>\n",
       "      <td>1.0</td>\n",
       "      <td>2</td>\n",
       "      <td>5</td>\n",
       "      <td>20.0</td>\n",
       "      <td>200000.0</td>\n",
       "      <td>2</td>\n",
       "      <td>3</td>\n",
       "    </tr>\n",
       "  </tbody>\n",
       "</table>\n",
       "</div>"
      ],
      "text/plain": [
       "    Age  Gender  Education  Job  Years of Experience    Salary  Country  Race\n",
       "0  32.0     1.0          1    1                  5.0   90000.0        1     1\n",
       "1  28.0     0.0          2    2                  3.0   65000.0        2     2\n",
       "2  45.0     1.0          3    3                 15.0  150000.0        3     1\n",
       "3  36.0     0.0          1    4                  7.0   60000.0        2     2\n",
       "4  52.0     1.0          2    5                 20.0  200000.0        2     3"
      ]
     },
     "execution_count": 33,
     "metadata": {},
     "output_type": "execute_result"
    }
   ],
   "source": [
    "\n",
    "# make a list of the income categories converted to integers\n",
    "education = {\"Bachelor's\": 1, \"Master's\": 2, 'PhD': 3, \"Bachelor's Degree\": 4, \"Master's Degree\": 5, 'High School':6}\n",
    "country = {'UK': 1, 'USA': 2, 'Canada': 3, 'China': 4, 'Australia': 5}\n",
    "race = {'White': 1, 'Hispanic': 2, 'Asian': 3, 'African American': 4, 'Mixed': 5}\n",
    "gender = {'Female': 0, 'Male': 1}\n",
    "\n",
    "\n",
    "\n",
    "\n",
    "df2['Education'] = df2['Education'].map(education)\n",
    "df2['Country'] = df2['Country'].map(country)\n",
    "df2['Gender'] = df2['Gender'].map(gender)\n",
    "df2['Race'] = df2['Race'].map(race)\n",
    "df2['Job'] = df2['Job'].map(job_dict)\n",
    "\n",
    "\n",
    "df2.dropna(inplace=True)\n",
    "\n",
    "df2.head()\n"
   ]
  },
  {
   "cell_type": "code",
   "execution_count": 34,
   "metadata": {},
   "outputs": [
    {
     "data": {
      "text/plain": [
       "Age                    float64\n",
       "Gender                 float64\n",
       "Education                int64\n",
       "Job                      int64\n",
       "Years of Experience    float64\n",
       "Salary                 float64\n",
       "Country                  int64\n",
       "Race                     int64\n",
       "dtype: object"
      ]
     },
     "execution_count": 34,
     "metadata": {},
     "output_type": "execute_result"
    }
   ],
   "source": [
    "df2.dtypes"
   ]
  },
  {
   "cell_type": "code",
   "execution_count": 35,
   "metadata": {},
   "outputs": [
    {
     "name": "stdout",
     "output_type": "stream",
     "text": [
      "(6684, 7) (6684,)\n"
     ]
    }
   ],
   "source": [
    "# Split our preprocessed data into our features and target arrays\n",
    "y = df2[\"Salary\"].values\n",
    "X = df2.drop([\"Salary\"],axis=1)\n",
    "\n",
    "print(X.shape, y.shape)"
   ]
  },
  {
   "cell_type": "code",
   "execution_count": 38,
   "metadata": {},
   "outputs": [
    {
     "name": "stdout",
     "output_type": "stream",
     "text": [
      "(5347, 7)\n",
      "(5347,)\n"
     ]
    }
   ],
   "source": [
    "# Split the data into training and testing sets\n",
    "X_train, X_test, y_train, y_test = train_test_split(X, y, test_size=.2, random_state=42)\n",
    "\n",
    "# Create a StandardScaler instances\n",
    "scaler = StandardScaler()\n",
    "\n",
    "# Fit the StandardScaler for ridge hyperparameter tuning\n",
    "X_scaled = scaler.fit(X_train)\n",
    "\n",
    "# Scale the data\n",
    "X_train_scaled = X_scaled.transform(X_train)\n",
    "X_test_scaled = X_scaled.transform(X_test)\n",
    "\n",
    "\n",
    "print(X_train_scaled.shape)\n",
    "print(y_train.shape)"
   ]
  },
  {
   "cell_type": "code",
   "execution_count": 18,
   "metadata": {},
   "outputs": [
    {
     "name": "stdout",
     "output_type": "stream",
     "text": [
      "Best Alpha: 1.0\n",
      "R2 Score: 0.72\n"
     ]
    }
   ],
   "source": [
    "# Find best alpha hyperparameter for Ridge Regression model\n",
    "model = Ridge()\n",
    "alphas = [0.1, 1.0, 10.0, 100.0, 200, 300, 400, 500, 600, 700, 800, 900, 1000]\n",
    "param_grid = {'alpha': alphas}\n",
    "grid_search = GridSearchCV(model, param_grid, cv=5, scoring='neg_mean_squared_error')\n",
    "grid_search.fit(X_train_scaled, y_train)\n",
    "best_alpha = grid_search.best_params_['alpha']\n",
    "best_model = grid_search.best_estimator_\n",
    "y_pred = best_model.predict(X_test_scaled)\n",
    "r2 = r2_score(y_test, y_pred)\n",
    "\n",
    "print(\"Best Alpha:\", best_alpha)\n",
    "print(\"R2 Score:\", round(r2,2))"
   ]
  },
  {
   "cell_type": "code",
   "execution_count": 19,
   "metadata": {},
   "outputs": [
    {
     "name": "stdout",
     "output_type": "stream",
     "text": [
      "Ridge Regression\n",
      "Mean Squared Error: 776049003.5\n",
      "Mean Absolute Error: 22224.69\n",
      "R-squared: 0.72\n"
     ]
    }
   ],
   "source": [
    "# Model: Ridge Regression\n",
    "model = Ridge(alpha=100)\n",
    "model.fit(X_train_scaled, y_train)\n",
    "\n",
    "# Predictions\n",
    "y_pred_ridge = model.predict(X_test_scaled)\n",
    "\n",
    "# Metrics\n",
    "mse_ridge = mean_squared_error(y_test, y_pred_ridge)\n",
    "mae_ridge = mean_absolute_error(y_test, y_pred_ridge)\n",
    "r2_ridge = r2_score(y_test, y_pred_ridge)\n",
    "\n",
    "print(\"Ridge Regression\")\n",
    "print(\"Mean Squared Error:\", round(mse_ridge,2))\n",
    "print(\"Mean Absolute Error:\", round(mae_ridge,2))\n",
    "print(\"R-squared:\", round(r2_ridge,2))"
   ]
  },
  {
   "cell_type": "code",
   "execution_count": 20,
   "metadata": {},
   "outputs": [
    {
     "name": "stdout",
     "output_type": "stream",
     "text": [
      "Lasso Regression\n",
      "Mean Squared Error: 769339121.37\n",
      "Mean Absolute Error: 21933.43\n",
      "R-squared: 0.72\n"
     ]
    }
   ],
   "source": [
    "# Model: Lasso Regression\n",
    "lasso_model = Lasso(alpha=100) \n",
    "lasso_model.fit(X_train_scaled, y_train)\n",
    "\n",
    "# Predict\n",
    "y_pred_lasso = lasso_model.predict(X_test_scaled)\n",
    "\n",
    "# Metrics\n",
    "mse_lasso = mean_squared_error(y_test, y_pred_lasso)\n",
    "mae_lasso = mean_absolute_error(y_test, y_pred_lasso)\n",
    "r2_lasso = r2_score(y_test, y_pred_lasso)\n",
    "\n",
    "print(\"Lasso Regression\")\n",
    "print(\"Mean Squared Error:\", round(mse_lasso,2))\n",
    "print(\"Mean Absolute Error:\", round(mae_lasso,2))\n",
    "print(\"R-squared:\", round(r2_lasso,2))"
   ]
  },
  {
   "cell_type": "code",
   "execution_count": 39,
   "metadata": {},
   "outputs": [
    {
     "name": "stdout",
     "output_type": "stream",
     "text": [
      "Best Hyperparameters:\n",
      "Best max_depth: 50\n",
      "Best min_samples_split: 5\n",
      "\n",
      "Decision Tree Regressor\n",
      "Mean Squared Error: 115721906.91\n",
      "Mean Absolute Error: 3864.79\n",
      "R-squared: 0.96\n"
     ]
    }
   ],
   "source": [
    "# Model: Decision Tree Regressor\n",
    "param_grid = {'max_depth': [50, 100, 150, 200, 400, 500, 1000, None], 'min_samples_split': [2, 5, 10]}\n",
    "decision_tree_model = DecisionTreeRegressor(random_state=78)\n",
    "grid_search = GridSearchCV(decision_tree_model, param_grid, cv=5, scoring='neg_mean_squared_error')\n",
    "grid_search.fit(X_train_scaled, y_train)\n",
    "\n",
    "\n",
    "# Best parameters\n",
    "best_max_depth = grid_search.best_params_['max_depth']\n",
    "best_min_samples_split = grid_search.best_params_['min_samples_split']\n",
    "best_model = grid_search.best_estimator_\n",
    "\n",
    "\n",
    "# Predict\n",
    "y_pred = best_model.predict(X_test_scaled)\n",
    "\n",
    "# Metrics\n",
    "mse = mean_squared_error(y_test, y_pred)\n",
    "mae = mean_absolute_error(y_test, y_pred)\n",
    "r2 = r2_score(y_test, y_pred)\n",
    "\n",
    "print(\"Best Hyperparameters:\")\n",
    "print(\"Best max_depth:\", best_max_depth)\n",
    "print(\"Best min_samples_split:\", best_min_samples_split)\n",
    "print(\"\\nDecision Tree Regressor\")\n",
    "print(\"Mean Squared Error:\", round(mse,2))\n",
    "print(\"Mean Absolute Error:\", round(mae,2))\n",
    "print(\"R-squared:\", round(r2,2))"
   ]
  },
  {
   "cell_type": "code",
   "execution_count": 22,
   "metadata": {},
   "outputs": [
    {
     "name": "stdout",
     "output_type": "stream",
     "text": [
      "Best Hyperparameters:\n",
      "{'max_depth': 10, 'min_samples_leaf': 6, 'min_samples_split': 45, 'n_estimators': 400}\n",
      "Mean Squared Error: 272769285.09\n",
      "Mean Absolute Error: 12394.62\n",
      "R-squared: 0.9\n"
     ]
    }
   ],
   "source": [
    "from sklearn.ensemble import RandomForestRegressor\n",
    "\n",
    "# Define a smaller parameter grid to search over\n",
    "param_grid = {\n",
    "    'n_estimators': [400, 500, 700, 800, 900],  # Reduce the number of estimators\n",
    "    'max_depth': [10,20,30, 40, 50],  # Reduce the number of max_depth values\n",
    "    'min_samples_split': [45, 55, 65, 75, 85],  # Reduce the number of min_samples_split values\n",
    "    'min_samples_leaf': [6, 7]  # Reduce the number of min_samples_leaf values\n",
    "}\n",
    "\n",
    "# Create a smaller dataset for faster training\n",
    "# For example, use the first 1000 samples for training and testing\n",
    "X_train_small = X_train_scaled[:1000]\n",
    "y_train_small = y_train[:1000]\n",
    "X_test_small = X_test_scaled[:1000]\n",
    "y_test_small = y_test[:1000]\n",
    "\n",
    "# Create a Random Forest Regressor\n",
    "random_forest = RandomForestRegressor()\n",
    "\n",
    "# Create GridSearchCV with the Random Forest Regressor and smaller parameter grid\n",
    "grid_search = GridSearchCV(random_forest, param_grid, cv=3, scoring='neg_mean_squared_error')\n",
    "\n",
    "# Fit the GridSearchCV to the smaller training data\n",
    "grid_search.fit(X_train_small, y_train_small)\n",
    "\n",
    "# Get the best hyperparameters and the best model from the grid search\n",
    "forest_best_params = grid_search.best_params_\n",
    "forest_best_model = grid_search.best_estimator_\n",
    "\n",
    "# Predict using the best model\n",
    "forest_y_pred = forest_best_model.predict(X_test_small)\n",
    "\n",
    "# Metrics\n",
    "forest_mse = mean_squared_error(y_test_small, forest_y_pred)\n",
    "forest_mae = mean_absolute_error(y_test_small, forest_y_pred)\n",
    "forest_r2 = r2_score(y_test_small, forest_y_pred)\n",
    "\n",
    "# Print the best hyperparameters\n",
    "print(\"Best Hyperparameters:\")\n",
    "print(forest_best_params)\n",
    "print(\"Mean Squared Error:\", round(forest_mse, 2))\n",
    "print(\"Mean Absolute Error:\", round(forest_mae, 2))\n",
    "print(\"R-squared:\", round(forest_r2, 2))"
   ]
  },
  {
   "cell_type": "code",
   "execution_count": 23,
   "metadata": {},
   "outputs": [
    {
     "name": "stdout",
     "output_type": "stream",
     "text": [
      "Mean Squared Error: 120178362.47\n",
      "Mean Absolute Error: 6905.99\n",
      "R-squared: 0.96\n"
     ]
    }
   ],
   "source": [
    "forest_model = RandomForestRegressor(n_estimators=400,max_depth=50, min_samples_leaf=7, min_samples_split=45)\n",
    "forest_model.fit(X_train_scaled, y_train)\n",
    "\n",
    "\n",
    "y_forest = forest_model.predict(X_test_scaled)\n",
    "\n",
    "mse_forest = mean_squared_error(y_test, y_forest)\n",
    "mae_forest = mean_absolute_error(y_test, y_forest)\n",
    "r2_forest = r2_score(y_test, y_forest)\n",
    "\n",
    "\n",
    "print(\"Mean Squared Error:\", round(mse_forest,2))\n",
    "print(\"Mean Absolute Error:\", round(mae_forest,2))\n",
    "print(\"R-squared:\", round(r2_forest,2))"
   ]
  },
  {
   "cell_type": "code",
   "execution_count": 40,
   "metadata": {},
   "outputs": [],
   "source": [
    "# Save model and scaler with pickle\n",
    "with open('scaler.pkl', 'wb') as f:\n",
    "    pickle.dump(X_scaled, f)\n",
    "\n",
    "with open(\"decision_tree_model.pkl\", 'wb') as f:\n",
    "    pickle.dump(best_model, f)"
   ]
  }
 ],
 "metadata": {
  "kernelspec": {
   "display_name": "base",
   "language": "python",
   "name": "python3"
  },
  "language_info": {
   "codemirror_mode": {
    "name": "ipython",
    "version": 3
   },
   "file_extension": ".py",
   "mimetype": "text/x-python",
   "name": "python",
   "nbconvert_exporter": "python",
   "pygments_lexer": "ipython3",
   "version": "3.9.13"
  },
  "orig_nbformat": 4
 },
 "nbformat": 4,
 "nbformat_minor": 2
}
