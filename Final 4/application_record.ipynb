{
 "cells": [
  {
   "cell_type": "code",
   "execution_count": 9,
   "metadata": {},
   "outputs": [],
   "source": [
    "import pandas as pd\n",
    "import sklearn as skl\n",
    "from sklearn.model_selection import train_test_split, GridSearchCV\n",
    "from sklearn.preprocessing import StandardScaler,OneHotEncoder\n",
    "from sklearn.metrics import mean_squared_error, mean_absolute_error, r2_score\n",
    "from sklearn.linear_model import Ridge, Lasso\n",
    "from sklearn.tree import DecisionTreeRegressor\n",
    "import numpy as np\n",
    "import pickle\n",
    "import regex as re"
   ]
  },
  {
   "cell_type": "code",
   "execution_count": 11,
   "metadata": {},
   "outputs": [
    {
     "data": {
      "text/html": [
       "<div>\n",
       "<style scoped>\n",
       "    .dataframe tbody tr th:only-of-type {\n",
       "        vertical-align: middle;\n",
       "    }\n",
       "\n",
       "    .dataframe tbody tr th {\n",
       "        vertical-align: top;\n",
       "    }\n",
       "\n",
       "    .dataframe thead th {\n",
       "        text-align: right;\n",
       "    }\n",
       "</style>\n",
       "<table border=\"1\" class=\"dataframe\">\n",
       "  <thead>\n",
       "    <tr style=\"text-align: right;\">\n",
       "      <th></th>\n",
       "      <th>Unnamed: 0</th>\n",
       "      <th>Age</th>\n",
       "      <th>Gender</th>\n",
       "      <th>Education Level</th>\n",
       "      <th>Job Title</th>\n",
       "      <th>Years of Experience</th>\n",
       "      <th>Salary</th>\n",
       "      <th>Country</th>\n",
       "      <th>Race</th>\n",
       "    </tr>\n",
       "  </thead>\n",
       "  <tbody>\n",
       "    <tr>\n",
       "      <th>0</th>\n",
       "      <td>0</td>\n",
       "      <td>32.0</td>\n",
       "      <td>Male</td>\n",
       "      <td>Bachelor's</td>\n",
       "      <td>Software Engineer</td>\n",
       "      <td>5.0</td>\n",
       "      <td>90000.0</td>\n",
       "      <td>UK</td>\n",
       "      <td>White</td>\n",
       "    </tr>\n",
       "    <tr>\n",
       "      <th>1</th>\n",
       "      <td>1</td>\n",
       "      <td>28.0</td>\n",
       "      <td>Female</td>\n",
       "      <td>Master's</td>\n",
       "      <td>Data Analyst</td>\n",
       "      <td>3.0</td>\n",
       "      <td>65000.0</td>\n",
       "      <td>USA</td>\n",
       "      <td>Hispanic</td>\n",
       "    </tr>\n",
       "    <tr>\n",
       "      <th>2</th>\n",
       "      <td>2</td>\n",
       "      <td>45.0</td>\n",
       "      <td>Male</td>\n",
       "      <td>PhD</td>\n",
       "      <td>Senior Manager</td>\n",
       "      <td>15.0</td>\n",
       "      <td>150000.0</td>\n",
       "      <td>Canada</td>\n",
       "      <td>White</td>\n",
       "    </tr>\n",
       "    <tr>\n",
       "      <th>3</th>\n",
       "      <td>3</td>\n",
       "      <td>36.0</td>\n",
       "      <td>Female</td>\n",
       "      <td>Bachelor's</td>\n",
       "      <td>Sales Associate</td>\n",
       "      <td>7.0</td>\n",
       "      <td>60000.0</td>\n",
       "      <td>USA</td>\n",
       "      <td>Hispanic</td>\n",
       "    </tr>\n",
       "    <tr>\n",
       "      <th>4</th>\n",
       "      <td>4</td>\n",
       "      <td>52.0</td>\n",
       "      <td>Male</td>\n",
       "      <td>Master's</td>\n",
       "      <td>Director</td>\n",
       "      <td>20.0</td>\n",
       "      <td>200000.0</td>\n",
       "      <td>USA</td>\n",
       "      <td>Asian</td>\n",
       "    </tr>\n",
       "  </tbody>\n",
       "</table>\n",
       "</div>"
      ],
      "text/plain": [
       "   Unnamed: 0   Age  Gender Education Level          Job Title   \n",
       "0           0  32.0    Male      Bachelor's  Software Engineer  \\\n",
       "1           1  28.0  Female        Master's       Data Analyst   \n",
       "2           2  45.0    Male             PhD     Senior Manager   \n",
       "3           3  36.0  Female      Bachelor's    Sales Associate   \n",
       "4           4  52.0    Male        Master's           Director   \n",
       "\n",
       "   Years of Experience    Salary Country      Race  \n",
       "0                  5.0   90000.0      UK     White  \n",
       "1                  3.0   65000.0     USA  Hispanic  \n",
       "2                 15.0  150000.0  Canada     White  \n",
       "3                  7.0   60000.0     USA  Hispanic  \n",
       "4                 20.0  200000.0     USA     Asian  "
      ]
     },
     "execution_count": 11,
     "metadata": {},
     "output_type": "execute_result"
    }
   ],
   "source": [
    "df = pd.read_csv(\"Resources/Salary_Data_Based_country_and_race.csv\")\n",
    "df.head()"
   ]
  },
  {
   "cell_type": "code",
   "execution_count": 12,
   "metadata": {},
   "outputs": [
    {
     "data": {
      "text/html": [
       "<div>\n",
       "<style scoped>\n",
       "    .dataframe tbody tr th:only-of-type {\n",
       "        vertical-align: middle;\n",
       "    }\n",
       "\n",
       "    .dataframe tbody tr th {\n",
       "        vertical-align: top;\n",
       "    }\n",
       "\n",
       "    .dataframe thead th {\n",
       "        text-align: right;\n",
       "    }\n",
       "</style>\n",
       "<table border=\"1\" class=\"dataframe\">\n",
       "  <thead>\n",
       "    <tr style=\"text-align: right;\">\n",
       "      <th></th>\n",
       "      <th>Age</th>\n",
       "      <th>Gender</th>\n",
       "      <th>Education</th>\n",
       "      <th>Job</th>\n",
       "      <th>Years of Experience</th>\n",
       "      <th>Salary</th>\n",
       "      <th>Country</th>\n",
       "      <th>Race</th>\n",
       "    </tr>\n",
       "  </thead>\n",
       "  <tbody>\n",
       "    <tr>\n",
       "      <th>0</th>\n",
       "      <td>32.0</td>\n",
       "      <td>Male</td>\n",
       "      <td>Bachelor's Degree</td>\n",
       "      <td>Software Engineer</td>\n",
       "      <td>5.0</td>\n",
       "      <td>90000.0</td>\n",
       "      <td>UK</td>\n",
       "      <td>White</td>\n",
       "    </tr>\n",
       "    <tr>\n",
       "      <th>1</th>\n",
       "      <td>28.0</td>\n",
       "      <td>Female</td>\n",
       "      <td>Master's Degree</td>\n",
       "      <td>Data Analyst</td>\n",
       "      <td>3.0</td>\n",
       "      <td>65000.0</td>\n",
       "      <td>USA</td>\n",
       "      <td>Hispanic</td>\n",
       "    </tr>\n",
       "    <tr>\n",
       "      <th>2</th>\n",
       "      <td>45.0</td>\n",
       "      <td>Male</td>\n",
       "      <td>PhD</td>\n",
       "      <td>Senior Manager</td>\n",
       "      <td>15.0</td>\n",
       "      <td>150000.0</td>\n",
       "      <td>Canada</td>\n",
       "      <td>White</td>\n",
       "    </tr>\n",
       "    <tr>\n",
       "      <th>3</th>\n",
       "      <td>36.0</td>\n",
       "      <td>Female</td>\n",
       "      <td>Bachelor's Degree</td>\n",
       "      <td>Sales Associate</td>\n",
       "      <td>7.0</td>\n",
       "      <td>60000.0</td>\n",
       "      <td>USA</td>\n",
       "      <td>Hispanic</td>\n",
       "    </tr>\n",
       "    <tr>\n",
       "      <th>4</th>\n",
       "      <td>52.0</td>\n",
       "      <td>Male</td>\n",
       "      <td>Master's Degree</td>\n",
       "      <td>Director</td>\n",
       "      <td>20.0</td>\n",
       "      <td>200000.0</td>\n",
       "      <td>USA</td>\n",
       "      <td>Asian</td>\n",
       "    </tr>\n",
       "    <tr>\n",
       "      <th>...</th>\n",
       "      <td>...</td>\n",
       "      <td>...</td>\n",
       "      <td>...</td>\n",
       "      <td>...</td>\n",
       "      <td>...</td>\n",
       "      <td>...</td>\n",
       "      <td>...</td>\n",
       "      <td>...</td>\n",
       "    </tr>\n",
       "    <tr>\n",
       "      <th>6699</th>\n",
       "      <td>49.0</td>\n",
       "      <td>Female</td>\n",
       "      <td>PhD</td>\n",
       "      <td>Director of Marketing</td>\n",
       "      <td>20.0</td>\n",
       "      <td>200000.0</td>\n",
       "      <td>UK</td>\n",
       "      <td>Mixed</td>\n",
       "    </tr>\n",
       "    <tr>\n",
       "      <th>6700</th>\n",
       "      <td>32.0</td>\n",
       "      <td>Male</td>\n",
       "      <td>High School</td>\n",
       "      <td>Sales Associate</td>\n",
       "      <td>3.0</td>\n",
       "      <td>50000.0</td>\n",
       "      <td>Australia</td>\n",
       "      <td>Australian</td>\n",
       "    </tr>\n",
       "    <tr>\n",
       "      <th>6701</th>\n",
       "      <td>30.0</td>\n",
       "      <td>Female</td>\n",
       "      <td>Bachelor's Degree</td>\n",
       "      <td>Financial Manager</td>\n",
       "      <td>4.0</td>\n",
       "      <td>55000.0</td>\n",
       "      <td>China</td>\n",
       "      <td>Chinese</td>\n",
       "    </tr>\n",
       "    <tr>\n",
       "      <th>6702</th>\n",
       "      <td>46.0</td>\n",
       "      <td>Male</td>\n",
       "      <td>Master's Degree</td>\n",
       "      <td>Marketing Manager</td>\n",
       "      <td>14.0</td>\n",
       "      <td>140000.0</td>\n",
       "      <td>China</td>\n",
       "      <td>Korean</td>\n",
       "    </tr>\n",
       "    <tr>\n",
       "      <th>6703</th>\n",
       "      <td>26.0</td>\n",
       "      <td>Female</td>\n",
       "      <td>High School</td>\n",
       "      <td>Sales Executive</td>\n",
       "      <td>1.0</td>\n",
       "      <td>35000.0</td>\n",
       "      <td>Canada</td>\n",
       "      <td>Black</td>\n",
       "    </tr>\n",
       "  </tbody>\n",
       "</table>\n",
       "<p>6698 rows × 8 columns</p>\n",
       "</div>"
      ],
      "text/plain": [
       "       Age  Gender          Education                    Job   \n",
       "0     32.0    Male  Bachelor's Degree      Software Engineer  \\\n",
       "1     28.0  Female    Master's Degree           Data Analyst   \n",
       "2     45.0    Male                PhD         Senior Manager   \n",
       "3     36.0  Female  Bachelor's Degree        Sales Associate   \n",
       "4     52.0    Male    Master's Degree               Director   \n",
       "...    ...     ...                ...                    ...   \n",
       "6699  49.0  Female                PhD  Director of Marketing   \n",
       "6700  32.0    Male        High School        Sales Associate   \n",
       "6701  30.0  Female  Bachelor's Degree      Financial Manager   \n",
       "6702  46.0    Male    Master's Degree      Marketing Manager   \n",
       "6703  26.0  Female        High School        Sales Executive   \n",
       "\n",
       "      Years of Experience    Salary    Country        Race  \n",
       "0                     5.0   90000.0         UK       White  \n",
       "1                     3.0   65000.0        USA    Hispanic  \n",
       "2                    15.0  150000.0     Canada       White  \n",
       "3                     7.0   60000.0        USA    Hispanic  \n",
       "4                    20.0  200000.0        USA       Asian  \n",
       "...                   ...       ...        ...         ...  \n",
       "6699                 20.0  200000.0         UK       Mixed  \n",
       "6700                  3.0   50000.0  Australia  Australian  \n",
       "6701                  4.0   55000.0      China     Chinese  \n",
       "6702                 14.0  140000.0      China      Korean  \n",
       "6703                  1.0   35000.0     Canada       Black  \n",
       "\n",
       "[6698 rows x 8 columns]"
      ]
     },
     "execution_count": 12,
     "metadata": {},
     "output_type": "execute_result"
    }
   ],
   "source": [
    "# Drop Unnamed: 0 column\n",
    "df2 = df.drop(columns=['Unnamed: 0'])\n",
    "\n",
    "# Rename columns\n",
    "df2 = df2.rename(columns={'Education Level': 'Education', \n",
    "                   'Job Title': 'Job',})\n",
    "\n",
    "df2.dropna(inplace=True)\n",
    "\n",
    "# Rename values in Education column\n",
    "df2['Education'] = df2['Education'].replace('phD', 'PhD')\n",
    "df2['Education'] = df2['Education'].replace(\"Bachelor's\", \"Bachelor's Degree\")\n",
    "df2['Education'] = df2['Education'].replace(\"Master's\", \"Master's Degree\")                  \n",
    "df2['Education'].unique()\n",
    "\n",
    "df2"
   ]
  },
  {
   "cell_type": "code",
   "execution_count": 17,
   "metadata": {},
   "outputs": [
    {
     "name": "stdout",
     "output_type": "stream",
     "text": [
      "[{'label': 'Sales Associate', 'value': 1}, {'label': 'Project Engineer', 'value': 2}, {'label': 'Juniour HR Coordinator', 'value': 3}, {'label': 'Director of Sales', 'value': 4}, {'label': 'Director', 'value': 5}, {'label': 'Social Media Man', 'value': 6}, {'label': 'IT Support Specialist', 'value': 7}, {'label': 'Customer Service Representative', 'value': 8}, {'label': 'Front End Developer', 'value': 9}, {'label': 'Help Desk Analyst', 'value': 10}, {'label': 'Product Marketing Manager', 'value': 11}, {'label': 'Researcher', 'value': 12}, {'label': 'Chief Technology Officer', 'value': 13}, {'label': 'Research Director', 'value': 14}, {'label': 'Back end Developer', 'value': 15}, {'label': 'Manager', 'value': 16}, {'label': 'Accountant', 'value': 17}, {'label': 'Customer Service Manager', 'value': 18}, {'label': 'Software Architect', 'value': 19}, {'label': 'Digital Content Producer', 'value': 20}, {'label': 'Director of Business Development', 'value': 21}, {'label': 'Product Designer', 'value': 22}, {'label': 'Sales Executive', 'value': 23}, {'label': 'Director of Finance', 'value': 24}, {'label': 'Research Scientist', 'value': 25}, {'label': 'Business Operations Analyst', 'value': 26}, {'label': 'Recruiter', 'value': 27}, {'label': 'Administrative Assistant', 'value': 28}, {'label': 'Operations Director', 'value': 29}, {'label': 'Supply Chain Analyst', 'value': 30}, {'label': 'Full Stack Engineer', 'value': 31}, {'label': 'IT Support', 'value': 32}, {'label': 'Quality Assurance Analyst', 'value': 33}, {'label': 'Data Engineer', 'value': 34}, {'label': 'Chief Data Officer', 'value': 35}, {'label': 'Human Resources Manager', 'value': 36}, {'label': 'Office Manager', 'value': 37}, {'label': 'Social Media Specialist', 'value': 38}, {'label': 'Developer', 'value': 39}, {'label': 'Customer Support Specialist', 'value': 40}, {'label': 'Receptionist', 'value': 41}, {'label': 'Product Development Manager', 'value': 42}, {'label': 'Operations Coordinator', 'value': 43}, {'label': 'VP of Finance', 'value': 44}, {'label': 'Front end Developer', 'value': 45}, {'label': 'Principal Engineer', 'value': 46}, {'label': 'Director of Marketing', 'value': 47}, {'label': 'Director of HR', 'value': 48}, {'label': 'Data Analyst', 'value': 49}, {'label': 'Marketing Analyst', 'value': 50}, {'label': 'Director of Sales and Marketing', 'value': 51}, {'label': 'Marketing Director', 'value': 52}, {'label': 'Product Manager', 'value': 53}, {'label': 'Technical Recruiter', 'value': 54}, {'label': 'Engineer', 'value': 55}, {'label': 'Director of Engineering', 'value': 56}, {'label': 'Sales Representative', 'value': 57}, {'label': 'Director of Product Management', 'value': 58}, {'label': 'Business Analyst', 'value': 59}, {'label': 'Strategy Consultant', 'value': 60}, {'label': 'Account Manager', 'value': 61}, {'label': 'Social Media Manager', 'value': 62}, {'label': 'Supply Chain Manager', 'value': 63}, {'label': 'Customer Success Manager', 'value': 64}, {'label': 'Sales Manager', 'value': 65}, {'label': 'Scientist', 'value': 66}, {'label': 'Web Developer', 'value': 67}, {'label': 'HR Generalist', 'value': 68}, {'label': 'Financial Analyst', 'value': 69}, {'label': 'Director of Human Capital', 'value': 70}, {'label': 'Designer', 'value': 71}, {'label': 'Director of Human Resources', 'value': 72}, {'label': 'Marketing Specialist', 'value': 73}, {'label': 'UX Designer', 'value': 74}, {'label': 'Marketing Manager', 'value': 75}, {'label': 'Copywriter', 'value': 76}, {'label': 'Customer Service Rep', 'value': 77}, {'label': 'Technical Support Specialist', 'value': 78}, {'label': 'Human Resources Director', 'value': 79}, {'label': 'Web Designer', 'value': 80}, {'label': 'Data Scientist', 'value': 81}, {'label': 'Graphic Designer', 'value': 82}, {'label': 'Principal Scientist', 'value': 83}, {'label': 'Project Manager', 'value': 84}, {'label': 'Delivery Driver', 'value': 85}, {'label': 'Account Executive', 'value': 86}, {'label': 'Director of Operations', 'value': 87}, {'label': 'Juniour HR Generalist', 'value': 88}, {'label': 'Content Marketing Manager', 'value': 89}, {'label': 'Sales Operations Manager', 'value': 90}, {'label': 'Technical Writer', 'value': 91}, {'label': 'HR Coordinator', 'value': 92}, {'label': 'Human Resources Specialist', 'value': 93}, {'label': 'Network Engineer', 'value': 94}, {'label': 'Software Project Manager', 'value': 95}, {'label': 'IT Manager', 'value': 96}, {'label': 'CEO', 'value': 97}, {'label': 'Event Coordinator', 'value': 98}, {'label': 'Software Engineer Manager', 'value': 99}, {'label': 'HR Manager', 'value': 100}, {'label': 'HR Specialist', 'value': 101}, {'label': 'Business Development Associate', 'value': 102}, {'label': 'Public Relations Manager', 'value': 103}, {'label': 'Operations Analyst', 'value': 104}, {'label': 'Director of Data Science', 'value': 105}, {'label': 'Marketing Coordinator', 'value': 106}, {'label': 'Training Specialist', 'value': 107}, {'label': 'IT Project Manager', 'value': 108}, {'label': 'Financial Manager', 'value': 109}, {'label': 'Operations Manager', 'value': 110}, {'label': 'Software Manager', 'value': 111}, {'label': 'Software Developer', 'value': 112}, {'label': 'Creative Director', 'value': 113}, {'label': 'Project Coordinator', 'value': 114}, {'label': 'Human Resources Coordinator', 'value': 115}, {'label': 'Software Engineer', 'value': 116}, {'label': 'Business Intelligence Analyst', 'value': 117}, {'label': 'Business Development Manager', 'value': 118}, {'label': 'Customer Success Rep', 'value': 119}, {'label': 'Sales Director', 'value': 120}, {'label': 'UX Researcher', 'value': 121}, {'label': 'IT Consultant', 'value': 122}, {'label': 'Digital Marketing Specialist', 'value': 123}, {'label': 'Consultant', 'value': 124}, {'label': 'Data Entry Clerk', 'value': 125}, {'label': 'Advertising Coordinator', 'value': 126}, {'label': 'VP of Operations', 'value': 127}, {'label': 'Financial Advisor', 'value': 128}, {'label': 'Digital Marketing Manager', 'value': 129}]\n"
     ]
    }
   ],
   "source": [
    "# Remove the 'Senior' and 'Junior' from the job column\n",
    "data = df2['Job']\n",
    "\n",
    "output_data = [re.sub(r'^(Senior|Junior)\\s*', '', x) for x in data]\n",
    "\n",
    "\n",
    "# Use for loop to replace all the values in job column with an integer value and append to a dictionary\n",
    "job_dict = {}\n",
    "value_mapping = []\n",
    "for i, unique_value in enumerate(set(output_data)):\n",
    "    job_dict[unique_value] = i + 1\n",
    "    mapping = {'label': unique_value, 'value': i + 1}\n",
    "    value_mapping.append(mapping)\n",
    "\n",
    "\n",
    "\n",
    "        \n",
    "print(value_mapping)"
   ]
  },
  {
   "cell_type": "code",
   "execution_count": 5,
   "metadata": {},
   "outputs": [
    {
     "data": {
      "text/plain": [
       "array(['UK', 'USA', 'Canada', 'China', 'Australia'], dtype=object)"
      ]
     },
     "execution_count": 5,
     "metadata": {},
     "output_type": "execute_result"
    }
   ],
   "source": [
    "# Get the list of countries for mapping\n",
    "df2['Country'].unique()"
   ]
  },
  {
   "cell_type": "code",
   "execution_count": 6,
   "metadata": {},
   "outputs": [
    {
     "data": {
      "text/plain": [
       "array(['White', 'Hispanic', 'Asian', 'African American', 'Mixed'],\n",
       "      dtype=object)"
      ]
     },
     "execution_count": 6,
     "metadata": {},
     "output_type": "execute_result"
    }
   ],
   "source": [
    "# Combine Ethniticies into 5 categories: White, African American, Asian, Hispanic, and Mixed\n",
    "df2['Race'] = df2['Race'].replace('Black', 'African American')\n",
    "df2['Race'] = df2['Race'].replace('Korean', 'Asian')\n",
    "df2['Race'] = df2['Race'].replace('Chinese', 'Asian')\n",
    "df2['Race'] = df2['Race'].replace('Welsh', 'White')\n",
    "df2['Race'] = df2['Race'].replace('Australian', 'White')\n",
    "df2['Race'].unique()   "
   ]
  },
  {
   "cell_type": "code",
   "execution_count": 7,
   "metadata": {},
   "outputs": [
    {
     "data": {
      "text/html": [
       "<div>\n",
       "<style scoped>\n",
       "    .dataframe tbody tr th:only-of-type {\n",
       "        vertical-align: middle;\n",
       "    }\n",
       "\n",
       "    .dataframe tbody tr th {\n",
       "        vertical-align: top;\n",
       "    }\n",
       "\n",
       "    .dataframe thead th {\n",
       "        text-align: right;\n",
       "    }\n",
       "</style>\n",
       "<table border=\"1\" class=\"dataframe\">\n",
       "  <thead>\n",
       "    <tr style=\"text-align: right;\">\n",
       "      <th></th>\n",
       "      <th>Age</th>\n",
       "      <th>Gender</th>\n",
       "      <th>Education</th>\n",
       "      <th>Job</th>\n",
       "      <th>Years of Experience</th>\n",
       "      <th>Salary</th>\n",
       "      <th>Country</th>\n",
       "      <th>Race</th>\n",
       "    </tr>\n",
       "  </thead>\n",
       "  <tbody>\n",
       "    <tr>\n",
       "      <th>0</th>\n",
       "      <td>32.0</td>\n",
       "      <td>1.0</td>\n",
       "      <td>2</td>\n",
       "      <td>1</td>\n",
       "      <td>5.0</td>\n",
       "      <td>90000.0</td>\n",
       "      <td>1</td>\n",
       "      <td>1</td>\n",
       "    </tr>\n",
       "    <tr>\n",
       "      <th>1</th>\n",
       "      <td>28.0</td>\n",
       "      <td>0.0</td>\n",
       "      <td>3</td>\n",
       "      <td>2</td>\n",
       "      <td>3.0</td>\n",
       "      <td>65000.0</td>\n",
       "      <td>2</td>\n",
       "      <td>2</td>\n",
       "    </tr>\n",
       "    <tr>\n",
       "      <th>2</th>\n",
       "      <td>45.0</td>\n",
       "      <td>1.0</td>\n",
       "      <td>4</td>\n",
       "      <td>3</td>\n",
       "      <td>15.0</td>\n",
       "      <td>150000.0</td>\n",
       "      <td>3</td>\n",
       "      <td>1</td>\n",
       "    </tr>\n",
       "    <tr>\n",
       "      <th>3</th>\n",
       "      <td>36.0</td>\n",
       "      <td>0.0</td>\n",
       "      <td>2</td>\n",
       "      <td>4</td>\n",
       "      <td>7.0</td>\n",
       "      <td>60000.0</td>\n",
       "      <td>2</td>\n",
       "      <td>2</td>\n",
       "    </tr>\n",
       "    <tr>\n",
       "      <th>4</th>\n",
       "      <td>52.0</td>\n",
       "      <td>1.0</td>\n",
       "      <td>3</td>\n",
       "      <td>5</td>\n",
       "      <td>20.0</td>\n",
       "      <td>200000.0</td>\n",
       "      <td>2</td>\n",
       "      <td>3</td>\n",
       "    </tr>\n",
       "  </tbody>\n",
       "</table>\n",
       "</div>"
      ],
      "text/plain": [
       "    Age  Gender  Education  Job  Years of Experience    Salary  Country  Race\n",
       "0  32.0     1.0          2    1                  5.0   90000.0        1     1\n",
       "1  28.0     0.0          3    2                  3.0   65000.0        2     2\n",
       "2  45.0     1.0          4    3                 15.0  150000.0        3     1\n",
       "3  36.0     0.0          2    4                  7.0   60000.0        2     2\n",
       "4  52.0     1.0          3    5                 20.0  200000.0        2     3"
      ]
     },
     "execution_count": 7,
     "metadata": {},
     "output_type": "execute_result"
    }
   ],
   "source": [
    "\n",
    "# make a list of the income categories converted to integers\n",
    "education = {'High School':1, \"Bachelor's Degree\": 2, \"Master's Degree\": 3, 'PhD': 4,}\n",
    "country = {'UK': 1, 'USA': 2, 'Canada': 3, 'China': 4, 'Australia': 5}\n",
    "race = {'White': 1, 'Hispanic': 2, 'Asian': 3, 'African American': 4, 'Mixed': 5}\n",
    "gender = {'Female': 0, 'Male': 1}\n",
    "\n",
    "\n",
    "\n",
    "# Map the values to the dataframe\n",
    "df2['Education'] = df2['Education'].map(education)\n",
    "df2['Country'] = df2['Country'].map(country)\n",
    "df2['Gender'] = df2['Gender'].map(gender)\n",
    "df2['Race'] = df2['Race'].map(race)\n",
    "df2['Job'] = df2['Job'].map(job_dict)\n",
    "\n",
    "# Drop the null columns where all values are null\n",
    "df2.dropna(inplace=True)\n",
    "\n",
    "df2.head()\n"
   ]
  },
  {
   "cell_type": "code",
   "execution_count": 8,
   "metadata": {},
   "outputs": [
    {
     "data": {
      "text/plain": [
       "Age                    float64\n",
       "Gender                 float64\n",
       "Education                int64\n",
       "Job                      int64\n",
       "Years of Experience    float64\n",
       "Salary                 float64\n",
       "Country                  int64\n",
       "Race                     int64\n",
       "dtype: object"
      ]
     },
     "execution_count": 8,
     "metadata": {},
     "output_type": "execute_result"
    }
   ],
   "source": [
    "# Get Data types for mapping in dash\n",
    "df2.dtypes"
   ]
  },
  {
   "cell_type": "code",
   "execution_count": 9,
   "metadata": {},
   "outputs": [
    {
     "name": "stdout",
     "output_type": "stream",
     "text": [
      "(6684, 7) (6684,)\n"
     ]
    }
   ],
   "source": [
    "# Split our preprocessed data into our features and target arrays\n",
    "y = df2[\"Salary\"].values\n",
    "X = df2.drop([\"Salary\"],axis=1)\n",
    "\n",
    "print(X.shape, y.shape)"
   ]
  },
  {
   "cell_type": "code",
   "execution_count": 10,
   "metadata": {},
   "outputs": [
    {
     "name": "stdout",
     "output_type": "stream",
     "text": [
      "(5347, 7)\n",
      "(5347,)\n"
     ]
    }
   ],
   "source": [
    "# Split the data into training and testing sets\n",
    "X_train, X_test, y_train, y_test = train_test_split(X, y, test_size=.2, random_state=42)\n",
    "\n",
    "# Create a StandardScaler instances\n",
    "scaler = StandardScaler()\n",
    "\n",
    "# Fit the StandardScaler for ridge hyperparameter tuning\n",
    "X_scaled = scaler.fit(X_train)\n",
    "\n",
    "# Scale the data\n",
    "X_train_scaled = X_scaled.transform(X_train)\n",
    "X_test_scaled = X_scaled.transform(X_test)\n",
    "\n",
    "\n",
    "print(X_train_scaled.shape)\n",
    "print(y_train.shape)"
   ]
  },
  {
   "cell_type": "code",
   "execution_count": 11,
   "metadata": {},
   "outputs": [
    {
     "name": "stdout",
     "output_type": "stream",
     "text": [
      "Best Alpha: 1.0\n",
      "R2 Score: 0.72\n"
     ]
    }
   ],
   "source": [
    "# Find best alpha hyperparameter for Ridge Regression model\n",
    "model = Ridge()\n",
    "alphas = [0.1, 1.0, 10.0, 100.0, 200, 300, 400, 500, 600, 700, 800, 900, 1000]\n",
    "param_grid = {'alpha': alphas}\n",
    "grid_search = GridSearchCV(model, param_grid, cv=5, scoring='neg_mean_squared_error')\n",
    "grid_search.fit(X_train_scaled, y_train)\n",
    "best_alpha = grid_search.best_params_['alpha']\n",
    "best_model = grid_search.best_estimator_\n",
    "y_pred = best_model.predict(X_test_scaled)\n",
    "r2 = r2_score(y_test, y_pred)\n",
    "\n",
    "print(\"Best Alpha:\", best_alpha)\n",
    "print(\"R2 Score:\", round(r2,2))"
   ]
  },
  {
   "cell_type": "code",
   "execution_count": 12,
   "metadata": {},
   "outputs": [
    {
     "name": "stdout",
     "output_type": "stream",
     "text": [
      "Ridge Regression\n",
      "Mean Squared Error: 786057529.09\n",
      "Mean Absolute Error: 22421.08\n",
      "R-squared: 0.72\n"
     ]
    }
   ],
   "source": [
    "# Model: Ridge Regression\n",
    "model = Ridge(alpha=100)\n",
    "model.fit(X_train_scaled, y_train)\n",
    "\n",
    "# Predictions\n",
    "y_pred_ridge = model.predict(X_test_scaled)\n",
    "\n",
    "# Metrics\n",
    "mse_ridge = mean_squared_error(y_test, y_pred_ridge)\n",
    "mae_ridge = mean_absolute_error(y_test, y_pred_ridge)\n",
    "r2_ridge = r2_score(y_test, y_pred_ridge)\n",
    "\n",
    "print(\"Ridge Regression\")\n",
    "print(\"Mean Squared Error:\", round(mse_ridge,2))\n",
    "print(\"Mean Absolute Error:\", round(mae_ridge,2))\n",
    "print(\"R-squared:\", round(r2_ridge,2))"
   ]
  },
  {
   "cell_type": "code",
   "execution_count": 13,
   "metadata": {},
   "outputs": [
    {
     "name": "stdout",
     "output_type": "stream",
     "text": [
      "Lasso Regression\n",
      "Mean Squared Error: 779401811.21\n",
      "Mean Absolute Error: 22259.47\n",
      "R-squared: 0.72\n"
     ]
    }
   ],
   "source": [
    "# Model: Lasso Regression\n",
    "lasso_model = Lasso(alpha=100) \n",
    "lasso_model.fit(X_train_scaled, y_train)\n",
    "\n",
    "# Predict\n",
    "y_pred_lasso = lasso_model.predict(X_test_scaled)\n",
    "\n",
    "# Metrics\n",
    "mse_lasso = mean_squared_error(y_test, y_pred_lasso)\n",
    "mae_lasso = mean_absolute_error(y_test, y_pred_lasso)\n",
    "r2_lasso = r2_score(y_test, y_pred_lasso)\n",
    "\n",
    "print(\"Lasso Regression\")\n",
    "print(\"Mean Squared Error:\", round(mse_lasso,2))\n",
    "print(\"Mean Absolute Error:\", round(mae_lasso,2))\n",
    "print(\"R-squared:\", round(r2_lasso,2))"
   ]
  },
  {
   "cell_type": "code",
   "execution_count": 14,
   "metadata": {},
   "outputs": [
    {
     "name": "stdout",
     "output_type": "stream",
     "text": [
      "Best Hyperparameters:\n",
      "Best max_depth: 50\n",
      "Best min_samples_split: 5\n",
      "\n",
      "Decision Tree Regressor\n",
      "Mean Squared Error: 108396909.25\n",
      "Mean Absolute Error: 4129.03\n",
      "R-squared: 0.96\n"
     ]
    }
   ],
   "source": [
    "# Model: Decision Tree Regressor\n",
    "param_grid = {'max_depth': [50, 100, 150, 200, 400, 500, 1000, None], 'min_samples_split': [2, 5, 10]}\n",
    "decision_tree_model = DecisionTreeRegressor(random_state=78)\n",
    "grid_search = GridSearchCV(decision_tree_model, param_grid, cv=5, scoring='neg_mean_squared_error')\n",
    "grid_search.fit(X_train_scaled, y_train)\n",
    "\n",
    "\n",
    "# Best parameters\n",
    "best_max_depth = grid_search.best_params_['max_depth']\n",
    "best_min_samples_split = grid_search.best_params_['min_samples_split']\n",
    "best_model = grid_search.best_estimator_\n",
    "\n",
    "\n",
    "# Predict\n",
    "y_pred = best_model.predict(X_test_scaled)\n",
    "\n",
    "# Metrics\n",
    "mse = mean_squared_error(y_test, y_pred)\n",
    "mae = mean_absolute_error(y_test, y_pred)\n",
    "r2 = r2_score(y_test, y_pred)\n",
    "\n",
    "print(\"Best Hyperparameters:\")\n",
    "print(\"Best max_depth:\", best_max_depth)\n",
    "print(\"Best min_samples_split:\", best_min_samples_split)\n",
    "print(\"\\nDecision Tree Regressor\")\n",
    "print(\"Mean Squared Error:\", round(mse,2))\n",
    "print(\"Mean Absolute Error:\", round(mae,2))\n",
    "print(\"R-squared:\", round(r2,2))"
   ]
  },
  {
   "cell_type": "code",
   "execution_count": 15,
   "metadata": {},
   "outputs": [
    {
     "name": "stdout",
     "output_type": "stream",
     "text": [
      "Best Hyperparameters:\n",
      "{'max_depth': 10, 'min_samples_leaf': 6, 'min_samples_split': 45, 'n_estimators': 900}\n",
      "Mean Squared Error: 340092272.61\n",
      "Mean Absolute Error: 13905.13\n",
      "R-squared: 0.88\n"
     ]
    }
   ],
   "source": [
    "from sklearn.ensemble import RandomForestRegressor\n",
    "\n",
    "# Define a smaller parameter grid to search over\n",
    "param_grid = {\n",
    "    'n_estimators': [400, 500, 700, 800, 900],  # Reduce the number of estimators\n",
    "    'max_depth': [10,20,30, 40, 50],  # Reduce the number of max_depth values\n",
    "    'min_samples_split': [45, 55, 65, 75, 85],  # Reduce the number of min_samples_split values\n",
    "    'min_samples_leaf': [6, 7]  # Reduce the number of min_samples_leaf values\n",
    "}\n",
    "\n",
    "# Create a smaller dataset for faster training\n",
    "# For example, use the first 1000 samples for training and testing\n",
    "X_train_small = X_train_scaled[:1000]\n",
    "y_train_small = y_train[:1000]\n",
    "X_test_small = X_test_scaled[:1000]\n",
    "y_test_small = y_test[:1000]\n",
    "\n",
    "# Create a Random Forest Regressor\n",
    "random_forest = RandomForestRegressor()\n",
    "\n",
    "# Create GridSearchCV with the Random Forest Regressor and smaller parameter grid\n",
    "grid_search = GridSearchCV(random_forest, param_grid, cv=3, scoring='neg_mean_squared_error')\n",
    "\n",
    "# Fit the GridSearchCV to the smaller training data\n",
    "grid_search.fit(X_train_small, y_train_small)\n",
    "\n",
    "# Get the best hyperparameters and the best model from the grid search\n",
    "forest_best_params = grid_search.best_params_\n",
    "forest_best_model = grid_search.best_estimator_\n",
    "\n",
    "# Predict using the best model\n",
    "forest_y_pred = forest_best_model.predict(X_test_small)\n",
    "\n",
    "# Metrics\n",
    "forest_mse = mean_squared_error(y_test_small, forest_y_pred)\n",
    "forest_mae = mean_absolute_error(y_test_small, forest_y_pred)\n",
    "forest_r2 = r2_score(y_test_small, forest_y_pred)\n",
    "\n",
    "# Print the best hyperparameters\n",
    "print(\"Best Hyperparameters:\")\n",
    "print(forest_best_params)\n",
    "print(\"Mean Squared Error:\", round(forest_mse, 2))\n",
    "print(\"Mean Absolute Error:\", round(forest_mae, 2))\n",
    "print(\"R-squared:\", round(forest_r2, 2))"
   ]
  },
  {
   "cell_type": "code",
   "execution_count": 16,
   "metadata": {},
   "outputs": [
    {
     "name": "stdout",
     "output_type": "stream",
     "text": [
      "Mean Squared Error: 153287275.91\n",
      "Mean Absolute Error: 7823.47\n",
      "R-squared: 0.94\n"
     ]
    }
   ],
   "source": [
    "forest_model = RandomForestRegressor(n_estimators=400,max_depth=50, min_samples_leaf=7, min_samples_split=45)\n",
    "forest_model.fit(X_train_scaled, y_train)\n",
    "\n",
    "\n",
    "y_forest = forest_model.predict(X_test_scaled)\n",
    "\n",
    "mse_forest = mean_squared_error(y_test, y_forest)\n",
    "mae_forest = mean_absolute_error(y_test, y_forest)\n",
    "r2_forest = r2_score(y_test, y_forest)\n",
    "\n",
    "\n",
    "print(\"Mean Squared Error:\", round(mse_forest,2))\n",
    "print(\"Mean Absolute Error:\", round(mae_forest,2))\n",
    "print(\"R-squared:\", round(r2_forest,2))"
   ]
  },
  {
   "cell_type": "code",
   "execution_count": 17,
   "metadata": {},
   "outputs": [],
   "source": [
    "# Save model and scaler with pickle\n",
    "with open('scaler.pkl', 'wb') as f:\n",
    "    pickle.dump(X_scaled, f)\n",
    "\n",
    "with open(\"decision_tree_model.pkl\", 'wb') as f:\n",
    "    pickle.dump(best_model, f)"
   ]
  }
 ],
 "metadata": {
  "kernelspec": {
   "display_name": "base",
   "language": "python",
   "name": "python3"
  },
  "language_info": {
   "codemirror_mode": {
    "name": "ipython",
    "version": 3
   },
   "file_extension": ".py",
   "mimetype": "text/x-python",
   "name": "python",
   "nbconvert_exporter": "python",
   "pygments_lexer": "ipython3",
   "version": "3.9.13"
  },
  "orig_nbformat": 4
 },
 "nbformat": 4,
 "nbformat_minor": 2
}
